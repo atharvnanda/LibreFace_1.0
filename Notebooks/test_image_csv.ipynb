{
 "cells": [
  {
   "cell_type": "code",
   "execution_count": 1,
   "id": "b45b6d8c",
   "metadata": {},
   "outputs": [
    {
     "name": "stderr",
     "output_type": "stream",
     "text": [
      "d:\\ATHARV\\W\\CDAC\\CODE\\LIBREFACE_IMPLEMENT\\venv\\lib\\site-packages\\tqdm\\auto.py:21: TqdmWarning: IProgress not found. Please update jupyter and ipywidgets. See https://ipywidgets.readthedocs.io/en/stable/user_install.html\n",
      "  from .autonotebook import tqdm as notebook_tqdm\n"
     ]
    }
   ],
   "source": [
    "import libreface\n",
    "import time"
   ]
  },
  {
   "cell_type": "code",
   "execution_count": 2,
   "id": "8dadb6e8",
   "metadata": {},
   "outputs": [
    {
     "name": "stdout",
     "output_type": "stream",
     "text": [
      "Using device: cpu for inference...\n",
      "Facial attributes of the image saved to D:/ATHARV/W/CDAC/CODE/LIBREFACE_IMPLEMENT/test_image_results (1).xlsx\n"
     ]
    },
    {
     "data": {
      "text/plain": [
       "'D:/ATHARV/W/CDAC/CODE/LIBREFACE_IMPLEMENT/test_image_results (1).xlsx'"
      ]
     },
     "execution_count": 2,
     "metadata": {},
     "output_type": "execute_result"
    }
   ],
   "source": [
    "libreface.save_facial_attributes_image(image_path = \"D:/ATHARV/W/CDAC/CODE/PRACTICE/Test_Images/face_cry.jpg\",\n",
    "                                       output_save_path = \"D:/ATHARV/W/CDAC/CODE/LIBREFACE_IMPLEMENT/test_image_results.xlsx\",\n",
    "                                       temp_dir = \"./temp\",\n",
    "                                       device = \"cpu\")"
   ]
  },
  {
   "cell_type": "code",
   "execution_count": null,
   "id": "b2b750ac",
   "metadata": {},
   "outputs": [],
   "source": []
  }
 ],
 "metadata": {
  "kernelspec": {
   "display_name": "venv",
   "language": "python",
   "name": "python3"
  },
  "language_info": {
   "codemirror_mode": {
    "name": "ipython",
    "version": 3
   },
   "file_extension": ".py",
   "mimetype": "text/x-python",
   "name": "python",
   "nbconvert_exporter": "python",
   "pygments_lexer": "ipython3",
   "version": "3.9.0"
  }
 },
 "nbformat": 4,
 "nbformat_minor": 5
}
