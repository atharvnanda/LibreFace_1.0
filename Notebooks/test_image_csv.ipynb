{
 "cells": [
  {
   "cell_type": "code",
   "execution_count": 14,
   "id": "b45b6d8c",
   "metadata": {},
   "outputs": [],
   "source": [
    "import libreface\n",
    "import time\n",
    "import pandas as pd\n",
    "import ast\n",
    "import numpy as np "
   ]
  },
  {
   "cell_type": "code",
   "execution_count": 2,
   "id": "8dadb6e8",
   "metadata": {},
   "outputs": [
    {
     "name": "stdout",
     "output_type": "stream",
     "text": [
      "Using device: cpu for inference...\n",
      "Facial attributes of the image saved to D:/ATHARV/W/CDAC/CODE/LIBREFACE_IMPLEMENT/test_image_results (1).csv\n"
     ]
    },
    {
     "data": {
      "text/plain": [
       "'D:/ATHARV/W/CDAC/CODE/LIBREFACE_IMPLEMENT/test_image_results (1).csv'"
      ]
     },
     "execution_count": 2,
     "metadata": {},
     "output_type": "execute_result"
    }
   ],
   "source": [
    "libreface.save_facial_attributes_image(image_path = \"D:/ATHARV/W/CDAC/CODE/PRACTICE/Test_Images/face_cry.jpg\",\n",
    "                                       output_save_path = \"D:/ATHARV/W/CDAC/CODE/LIBREFACE_IMPLEMENT/test_image_results.csv\",\n",
    "                                       temp_dir = \"./temp\",\n",
    "                                       device = \"cpu\")"
   ]
  },
  {
   "cell_type": "code",
   "execution_count": 21,
   "id": "2d25af1e",
   "metadata": {},
   "outputs": [
    {
     "name": "stdout",
     "output_type": "stream",
     "text": [
      "✅ Saved filtered CSV with only relevant information.\n"
     ]
    }
   ],
   "source": [
    "df = pd.read_csv(\"D:/ATHARV/W/CDAC/CODE/LIBREFACE_IMPLEMENT/test_image_results.csv\")\n",
    "\n",
    "expression = df[\"facial_expression\"].iloc[0]\n",
    "pitch = df[\"pitch\"].iloc[0]\n",
    "yaw = df[\"yaw\"].iloc[0]\n",
    "roll = df[\"roll\"].iloc[0]\n",
    "\n",
    "au_list = [1, 2, 4, 6, 7, 10, 12, 14, 15, 17, 23, 24]\n",
    "intensity_list = [1, 2, 4, 5, 6, 9, 12, 15, 17, 20, 25, 26]\n",
    "\n",
    "au_detection_values = df[\"detected_aus\"].tolist()[:len(au_list)]\n",
    "au_intensity_values = df[\"au_intensities\"].tolist()[len(au_list):len(au_list) + len(intensity_list)]\n",
    "\n",
    "data = {\n",
    "    \"facial_expression\": expression,\n",
    "    \"pitch\": pitch,\n",
    "    \"yaw\": yaw,\n",
    "    \"roll\": roll,\n",
    "}\n",
    "\n",
    "for i, au in enumerate(au_list):\n",
    "    data[f\"au_{au}\"] = au_detection_values[i]\n",
    "\n",
    "for i, au in enumerate(intensity_list):\n",
    "    data[f\"au_{au}_intensity\"] = au_intensity_values[i]\n",
    "\n",
    "final_df = pd.DataFrame([data])\n",
    "\n",
    "final_df.to_csv(\"D:/ATHARV/W/CDAC/CODE/LIBREFACE_IMPLEMENT/test_image_results_pyr.csv\", index=False)\n",
    "print(\"✅ Saved filtered CSV with only relevant information.\")"
   ]
  }
 ],
 "metadata": {
  "kernelspec": {
   "display_name": "venv",
   "language": "python",
   "name": "python3"
  },
  "language_info": {
   "codemirror_mode": {
    "name": "ipython",
    "version": 3
   },
   "file_extension": ".py",
   "mimetype": "text/x-python",
   "name": "python",
   "nbconvert_exporter": "python",
   "pygments_lexer": "ipython3",
   "version": "3.9.0"
  }
 },
 "nbformat": 4,
 "nbformat_minor": 5
}
